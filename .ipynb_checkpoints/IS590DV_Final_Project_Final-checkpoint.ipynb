{
 "cells": [
  {
   "cell_type": "code",
   "execution_count": 1,
   "metadata": {},
   "outputs": [],
   "source": [
    "import pandas as pd\n",
    "import numpy as np\n",
    "#import matplotlib.pyplot as plt\n",
    "from datetime import datetime\n",
    "import bqplot as bq\n",
    "import ipywidgets as ipy\n",
    "#import calendar\n",
    "import squarify\n",
    "import matplotlib\n",
    "import bqplot.market_map\n",
    "#import warnings\n",
    "%matplotlib inline\n",
    "#warnings.filterwarnings('ignore')"
   ]
  },
  {
   "cell_type": "code",
   "execution_count": 2,
   "metadata": {},
   "outputs": [],
   "source": [
    "df_adrd = pd.read_csv(\"Accidental_Drug_Related_Deaths_2012-2018.csv\")"
   ]
  },
  {
   "cell_type": "code",
   "execution_count": 3,
   "metadata": {},
   "outputs": [],
   "source": [
    "df_adrd['Year'] = pd.to_datetime(df_adrd['Date']).dt.year\n",
    "df_adrd['Year'].fillna(0, inplace=True)\n",
    "df_adrd['Year'] = df_adrd['Year'].apply(int)"
   ]
  },
  {
   "cell_type": "code",
   "execution_count": 4,
   "metadata": {},
   "outputs": [],
   "source": [
    "df_top_drugs = pd.DataFrame()\n",
    "\n",
    "df_top_drugs['Heroin'] = df_adrd.groupby('Year').Heroin.count()\n",
    "\n",
    "df_top_drugs['Cocaine'] = df_adrd.groupby('Year').Cocaine.count()\n",
    "\n",
    "df_top_drugs['Fentanyl'] = df_adrd.groupby('Year').Fentanyl.count()\n",
    "\n",
    "df_top_drugs['Benzodiazepine'] = df_adrd.groupby('Year').Benzodiazepine.count()\n",
    "\n",
    "df_top_drugs['Ethanol'] = df_adrd.groupby('Year').Ethanol.count()"
   ]
  },
  {
   "cell_type": "code",
   "execution_count": 5,
   "metadata": {},
   "outputs": [],
   "source": [
    "df_top_drugs.reset_index(inplace = True)\n",
    "df_top_drugs = df_top_drugs[df_top_drugs.Year != 0]"
   ]
  },
  {
   "cell_type": "code",
   "execution_count": 6,
   "metadata": {},
   "outputs": [
    {
     "data": {
      "application/vnd.jupyter.widget-view+json": {
       "model_id": "4a8d8d4925084f45a364dc8f6579d978",
       "version_major": 2,
       "version_minor": 0
      },
      "text/plain": [
       "VBox(children=(Figure(axes=[Axis(label='Year', scale=OrdinalScale()), Axis(label='Number of deaths', orientati…"
      ]
     },
     "metadata": {},
     "output_type": "display_data"
    }
   ],
   "source": [
    "x_ord = bq.OrdinalScale()\n",
    "y_lin = bq.LinearScale()\n",
    "\n",
    "x_year = bq.Axis(scale = x_ord, label = 'Year')\n",
    "y_drug_count = bq.Axis(scale = y_lin, orientation = 'vertical', label = 'Number of deaths')\n",
    "\n",
    "x_data = list(df_top_drugs.Year)\n",
    "\n",
    "y_data1 = df_top_drugs.Benzodiazepine\n",
    "y_data2 = df_top_drugs.Cocaine\n",
    "y_data3 = df_top_drugs.Ethanol\n",
    "y_data4 = df_top_drugs.Fentanyl\n",
    "y_data5 = df_top_drugs.Heroin\n",
    "\n",
    "line1 = bq.Lines(x=x_data, y=y_data1, scales={'x': x_ord, 'y': y_lin},\n",
    "stroke_width=3, colors=['red'], display_legend=True, labels=['Benzodiazepine'])\n",
    "\n",
    "line2 = bq.Lines(x=x_data, y=y_data2, scales={'x': x_ord, 'y': y_lin},\n",
    "stroke_width=3, colors=['blue'], display_legend=True, labels=['Cocaine'])\n",
    "\n",
    "line3 = bq.Lines(x=x_data, y=y_data3, scales={'x': x_ord, 'y': y_lin},\n",
    "stroke_width=3, colors=['green'], display_legend=True, labels=['Ethanol'])\n",
    "\n",
    "line4 = bq.Lines(x=x_data, y=y_data4, scales={'x': x_ord, 'y': y_lin},\n",
    "stroke_width=3, colors=['teal'], display_legend=True, labels=['Fentanyl'])\n",
    "\n",
    "line5 = bq.Lines(x=x_data, y=y_data5, scales={'x': x_ord, 'y': y_lin},\n",
    "stroke_width=3, colors=['orange'], display_legend=True, labels=['Heroin'])\n",
    "\n",
    "fig = bq.Figure(marks=[line1, line2, line3, line4, line5], axes=[x_year, y_drug_count], title='Top Drug Trends in Connecticut',\n",
    "legend_location='top-left')\n",
    "\n",
    "fig.legend_style = {'stroke-width': 0}\n",
    "\n",
    "display(ipy.VBox([fig]))\n",
    "\n"
   ]
  }
 ],
 "metadata": {
  "kernelspec": {
   "display_name": "Python 3",
   "language": "python",
   "name": "python3"
  },
  "language_info": {
   "codemirror_mode": {
    "name": "ipython",
    "version": 3
   },
   "file_extension": ".py",
   "mimetype": "text/x-python",
   "name": "python",
   "nbconvert_exporter": "python",
   "pygments_lexer": "ipython3",
   "version": "3.7.3"
  }
 },
 "nbformat": 4,
 "nbformat_minor": 2
}
